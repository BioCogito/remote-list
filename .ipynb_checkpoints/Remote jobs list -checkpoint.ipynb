{
 "cells": [
  {
   "cell_type": "markdown",
   "metadata": {},
   "source": [
    "### Remote jobs list ###"
   ]
  },
  {
   "cell_type": "markdown",
   "metadata": {},
   "source": [
    "I'm trying to create a list of all the jobs I might want to apply to that are remote, and match my interests.\n",
    "\n",
    "Sources:\n",
    "- Angelist.com\n",
    "- LinkedIn.com\n",
    "- Others?"
   ]
  },
  {
   "cell_type": "code",
   "execution_count": null,
   "metadata": {},
   "outputs": [],
   "source": [
    "original repo was \n",
    "https://github.com/georgemandis/remote-working-list"
   ]
  },
  {
   "cell_type": "code",
   "execution_count": null,
   "metadata": {},
   "outputs": [],
   "source": [
    "const fs = require('fs')\n",
    "const parse = require('csv-parse')\n",
    "\n",
    "switch (process.argv[2]) {\n",
    "\n",
    "    // return OPML file\n",
    "    case \"opml\":\n",
    "        const opmlOutput = [];\n",
    "        fs.readFile(\"./remote-working-resources.csv\", function (err, fileData) {\n",
    "            parse(fileData, {\n",
    "                columns: true,\n",
    "                trim: true\n",
    "            }, function (err, rows) {\n",
    "                // Your CSV data is in an array of arrys passed to this callback as rows.\n",
    "                rows.forEach((row) => {\n",
    "                    if (row['Feed URL']) {\n",
    "                        opmlOutput.push(`<outline htmlUrl=\"${row['URL']}\" title=\"${row['Title']}\" xmlUrl=\"${row['Feed URL']}\" type=\"rss\" text=\"${row['Title']}\"/>`);\n",
    "                    }\n",
    "                });\n",
    "                console.log(`<?xml version=\"1.0\" encoding=\"UTF-8\"?>\n",
    "                                <opml version=\"1.0\">\n",
    "                                <head>\n",
    "                                    <title>Remote Work Jobs</title>\n",
    "                                </head>\n",
    "                                <body>\n",
    "                                    <outline text=\"Remote Work Jobs\" title=\"Remote Work Jobs\">\n",
    "                                        ${opmlOutput.join(\"\\n\")}\n",
    "                                    </outline>\n",
    "                                </body>\n",
    "                                </opml>`);\n",
    "            })\n",
    "        })\n",
    "        break;\n"
   ]
  },
  {
   "cell_type": "code",
   "execution_count": null,
   "metadata": {},
   "outputs": [],
   "source": []
  }
 ],
 "metadata": {
  "kernelspec": {
   "display_name": "Python 3",
   "language": "python",
   "name": "python3"
  },
  "language_info": {
   "codemirror_mode": {
    "name": "ipython",
    "version": 3
   },
   "file_extension": ".py",
   "mimetype": "text/x-python",
   "name": "python",
   "nbconvert_exporter": "python",
   "pygments_lexer": "ipython3",
   "version": "3.6.5"
  },
  "widgets": {
   "application/vnd.jupyter.widget-state+json": {
    "state": {},
    "version_major": 2,
    "version_minor": 0
   }
  }
 },
 "nbformat": 4,
 "nbformat_minor": 2
}
